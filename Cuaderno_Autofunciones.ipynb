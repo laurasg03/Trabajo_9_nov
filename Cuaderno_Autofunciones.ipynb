{
  "nbformat": 4,
  "nbformat_minor": 0,
  "metadata": {
    "colab": {
      "provenance": [],
      "include_colab_link": true
    },
    "language_info": {
      "codemirror_mode": {
        "name": "ipython",
        "version": 3
      },
      "file_extension": ".py",
      "mimetype": "text/x-python",
      "name": "python",
      "nbconvert_exporter": "python",
      "pygments_lexer": "ipython3",
      "version": "3.6.4"
    },
    "kernelspec": {
      "display_name": "Python 3",
      "language": "python",
      "name": "python3"
    }
  },
  "cells": [
    {
      "cell_type": "markdown",
      "metadata": {
        "id": "view-in-github",
        "colab_type": "text"
      },
      "source": [
        "<a href=\"https://colab.research.google.com/github/laurasg03/Trabajo_9_nov/blob/main/Cuaderno_Autofunciones.ipynb\" target=\"_parent\"><img src=\"https://colab.research.google.com/assets/colab-badge.svg\" alt=\"Open In Colab\"/></a>"
      ]
    },
    {
      "cell_type": "markdown",
      "metadata": {
        "nbsphinx": "hidden",
        "id": "buAkuZ-JvWzT"
      },
      "source": [
        "# Caracterización de sistemas en el dominio del tiempo y la transformada de Laplace\n",
        "\n",
        "*This Jupyter notebook is part of a [collection of notebooks](../index.ipynb) in the bachelors module Signals and Systems, Communications Engineering, Universität Rostock. Please direct questions and suggestions to [Sascha.Spors@uni-rostock.de](mailto:Sascha.Spors@uni-rostock.de).*"
      ]
    },
    {
      "cell_type": "markdown",
      "metadata": {
        "id": "DWtWi0EivWzZ"
      },
      "source": [
        "## Eigenfunctions - Autofunciones\n",
        "\n",
        "- Una [autofunción](https://en.wikipedia.org/wiki/Eigenfunction) (También llamada función propia) de un sistema se define como la señal de entrada $x(t)$ que produce la señal de salida $y(t)=\\mathscr{H} \\{x(t)\\}=\\lambda \\cdot x(t)$ con $\\lambda \\in \\mathbb{C}$.\n",
        "\n",
        "- El peso $\\lambda$ asociado con $x(t)$ se conoce como valor propio escalar del sistema. Por lo tanto, además de ser un factor de ponderación, una función propia no se modifica al pasar por el sistema.\n",
        "\n",
        "- Las señales exponenciales complejas $e^{st}$ con $s \\in \\mathbb{C}$ son funciones propias de un sistema lineal e invariante en el tiempo (SLIT). Esto se puede probar al aplicar las propiedades de los SLIT.\n",
        "\n",
        "- Se asume un SLIT generalizado con entrada $x(t) = e^{s t}$ y salida $y(t) = \\mathscr{H}\\{ x(t) \\}$. La respuesta del SLIT ante una entrada desplazada $x(t-\\tau) = e^{s (t-\\tau)}$ es\n",
        "\n",
        "\\begin{equation}\n",
        "y(t - \\tau) = \\mathscr{H}\\{ x(t-\\tau) \\} = \\mathscr{H}\\{ e^{-s \\tau} \\cdot e^{s t}  \\}\n",
        "\\end{equation}\n",
        "\n",
        "- Debido a la linealidad del sistema, la anterior igualdad se puede reformular así:\n",
        "\n",
        "\\begin{equation}\n",
        "y(t - \\tau) =  e^{-s \\tau} \\cdot \\mathscr{H}\\{ e^{s t}  \\} = e^{-s \\tau} \\cdot y(t)\n",
        "\\end{equation}\n",
        "\n",
        "- Por ende $y(t)=\\lambda e^{st} $, con $\\lambda = e^{-\\tau s}$."
      ]
    },
    {
      "cell_type": "markdown",
      "metadata": {
        "id": "cK7248FwvWzb"
      },
      "source": [
        "**Ejemplo**\n",
        "\n",
        "Se considera un SLIT cuya relación entrada/salida viene dada por la siguiente ecuación diferencial ordinaria (EDO) con coeficientes constantes:\n",
        "\n",
        "\\begin{equation}\n",
        "a_0 y(t) + a_1 \\frac{d y(t)}{dt} + a_2 \\frac{d^2 y(t)}{dt^2} = x(t)\n",
        "\\end{equation}\n",
        "\n",
        "Con $a_i \\in \\mathbb{R} \\quad \\forall i$.\n",
        "\n",
        "La señal de salida $y(t)$ del sistema se calcula mediante la solución explícita de la EDO para $x(t)=e^{st}$ como señal de entrada. Las constantes de integración se descartan para facilitar la ilustración."
      ]
    },
    {
      "cell_type": "code",
      "metadata": {
        "id": "6rspt7o-vWzf",
        "colab": {
          "base_uri": "https://localhost:8080/",
          "height": 56
        },
        "outputId": "29f635ec-06c2-43ab-ffd2-0333b07a12ab"
      },
      "source": [
        "%matplotlib inline\n",
        "import sympy as sym\n",
        "sym.init_printing()\n",
        "#definir variables\n",
        "t, s, a0, a1, a2 = sym.symbols('t s a:3')\n",
        "x = sym.exp(s * t)#entrada del sistema tipo euler compleja\n",
        "y = sym.Function('y')(t)\n",
        "#plantear EDO\n",
        "ode = sym.Eq(a0*y + a1*y.diff(t) + a2*y.diff(t,2), x)\n",
        "solution = sym.dsolve(ode)#resolver para condiciones iniciales 0\n",
        "solution.subs({'C1': 0, 'C2' : 0})"
      ],
      "execution_count": null,
      "outputs": [
        {
          "output_type": "execute_result",
          "data": {
            "image/png": "[encoded data removed]",
            "text/latex": "$\\displaystyle y{\\left(t \\right)} = \\frac{e^{s t}}{a_{0} + a_{1} s + a_{2} s^{2}}$",
            "text/plain": [
              "               s⋅t      \n",
              "              ℯ         \n",
              "y(t) = ─────────────────\n",
              "                       2\n",
              "       a₀ + a₁⋅s + a₂⋅s "
            ]
          },
          "metadata": {},
          "execution_count": 10
        }
      ]
    },
    {
      "cell_type": "markdown",
      "metadata": {
        "id": "I0bd3dz4vWzv"
      },
      "source": [
        "**Ejercicio**\n",
        "\n",
        "* Qué relación tiene $\\lambda$ con el la salida obtenida al resolver la EDO?\n",
        "* Puede generalizar sus resultados a una EDO de orden arbitrario?"
      ]
    },
    {
      "cell_type": "markdown",
      "source": [
        " ***SOLUCION***\n",
        "\n",
        "\n",
        "\n",
        "\n",
        "\n",
        "> Si λ es positivo y real:  La salida y(t) crecerá exponencialmente con el tiempo si λ>0, lo que indica un crecimiento no amortiguado en la respuesta del sistema.\n",
        "\n",
        "\n",
        "\n",
        "\n",
        " .\n",
        "\n",
        "> Si λ es negativo y real:  La salida y(t) decrecerá exponencialmente con el tiempo si λ < 0, lo que indica una respuesta amortiguada en el sistema\n",
        "\n",
        "\n",
        "\n",
        "\n",
        "\n",
        ">  Si λ es complejo:  Si λ=α+iβ, donde α y β son reales e i es la unidad imaginaria, la salida tendrá componentes exponenciales oscilatorias, lo que indica una respuesta oscilatoria en el sistema.\n",
        "\n",
        "\n",
        "\n",
        "\n",
        "> Sí, los resultados y el enfoque que te he proporcionado para una EDO de segundo orden pueden generalizarse a una EDO de orden arbitrario. La idea principal es encontrar una solución particular para la EDO asumiendo una forma exponencial para la señal de entrada x(t)=e^st y luego resolver para los coeficientes desconocidos.\n",
        "\n",
        "\n",
        "\n",
        "\n",
        "\n",
        "Para una EDO de orden n, la forma general de la EDO sería:\n",
        "\n",
        "![image.png](data:image/png;base64,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)\n"
      ],
      "metadata": {
        "id": "Y6G4lA_bDyrP"
      }
    },
    {
      "cell_type": "markdown",
      "metadata": {
        "id": "EQ26PD60vWzx"
      },
      "source": [
        "**Ejemplo**\n",
        "\n",
        "La siguiente EDO lineal con coeficiente dependiente del tiempo se considera como un ejemplo para un sistema lineal con variación en el tiempo:\n",
        "\n",
        "\\begin{equation}\n",
        "t \\cdot \\frac{d y(t)}{dt} = x(t)\n",
        "\\end{equation}\n",
        "\n",
        "La señal de salida $y(t)$ del sistema para una señal exponencial compleja en la entrada $x(t)=e^{st}$ se calcula al solucionar de manera explícita la EDO. Nuevamente se descartan las constantes de integración."
      ]
    },
    {
      "cell_type": "code",
      "metadata": {
        "id": "p4Cx0bm4vWzz",
        "colab": {
          "base_uri": "https://localhost:8080/",
          "height": 38
        },
        "outputId": "1a420a0d-4784-4205-d7c5-f768c971065f"
      },
      "source": [
        "ode = sym.Eq(t*y.diff(t), x)\n",
        "solution = sym.dsolve(ode)\n",
        "solution.subs('C1', 0)\n"
      ],
      "execution_count": null,
      "outputs": [
        {
          "output_type": "execute_result",
          "data": {
            "image/png": "[encoded data removed]",
            "text/latex": "$\\displaystyle y{\\left(t \\right)} = \\operatorname{Ei}{\\left(s t \\right)}$",
            "text/plain": [
              "y(t) = Ei(s⋅t)"
            ]
          },
          "metadata": {},
          "execution_count": 11
        }
      ]
    },
    {
      "cell_type": "markdown",
      "metadata": {
        "id": "6RqQu0A8vWz9"
      },
      "source": [
        "Observe que, $\\text{Ei}(\\cdot)$ denota una [integral exponencial](http://docs.sympy.org/latest/modules/functions/special.html#sympy.functions.special.error_functions.Ei). La respuesta $y(t)$ del sistema variante en el tiempo no es igual a una señal exponencial compleja ponderada ($\\lambda \\cdot e^{st}$). Se puede concluir que las exponenciales complejas no son funciones propias de este sistema particular."
      ]
    },
    {
      "cell_type": "markdown",
      "metadata": {
        "id": "R_jox20UvWz_"
      },
      "source": [
        "**Ejemplo**\n",
        "\n",
        "Un último ejemplo considera la siguiente EDO no lineal con coeficientes:\n",
        "\n",
        "\\begin{equation}\n",
        "\\left( \\frac{d y(t)}{dt} \\right)^2 = x(t)\n",
        "\\end{equation}\n",
        "\n",
        "Como ejemplo para un sistema no lineal e invariante en el tiempo. Nuevamente, la señal de salida $y(t)$ del sistema ante una señal exponencial compleja en la entrada $x(t)=e^{st}$ se calcula mediante la solución explícita de la EDO. Como antes, las constantes de integración se descartan."
      ]
    },
    {
      "cell_type": "code",
      "metadata": {
        "id": "2d9gKKJQvW0C",
        "colab": {
          "base_uri": "https://localhost:8080/",
          "height": 68
        },
        "outputId": "ac69f741-a220-475e-8610-1ad12b013f1b"
      },
      "source": [
        "ode = sym.Eq(y.diff(t)**2, x)\n",
        "solution = sym.dsolve(ode)\n",
        "solution[0].subs('C1',0)"
      ],
      "execution_count": null,
      "outputs": [
        {
          "output_type": "execute_result",
          "data": {
            "text/latex": "$\\displaystyle y{\\left(t \\right)} = - \\begin{cases} \\frac{2 \\sqrt{e^{s t}}}{s} & \\text{for}\\: s \\neq 0 \\\\t & \\text{otherwise} \\end{cases}$",
            "text/plain": [
              "        ⎛⎧     ______           ⎞\n",
              "        ⎜⎪    ╱  s⋅t            ⎟\n",
              "        ⎜⎪2⋅╲╱  ℯ               ⎟\n",
              "y(t) = -⎜⎨───────────  for s ≠ 0⎟\n",
              "        ⎜⎪     s                ⎟\n",
              "        ⎜⎪                      ⎟\n",
              "        ⎝⎩     t       otherwise⎠"
            ]
          },
          "metadata": {},
          "execution_count": 12
        }
      ]
    },
    {
      "cell_type": "markdown",
      "metadata": {
        "id": "OFHuq1MZvW0N"
      },
      "source": [
        "Obviamente, para este sistema no lineal, las señales exponenciales complejas no son funciones propias."
      ]
    },
    {
      "cell_type": "markdown",
      "metadata": {
        "id": "YUZcn_o9vW0P"
      },
      "source": [
        "## Función de Transferencia\n",
        "\n",
        "El valor propio complejo $\\lambda$ caracteriza las propiedades de la transferencia de una señal exponencial compleja $e^{st} $ con una frecuencia compleja $s$ a través de un SLTI.\n",
        "\n",
        "Se denomina comúnmente como [*función de transferencia*](https://en.wikipedia.org/wiki/Transfer_function) y se denota por $H(s)=\\lambda(s)$. Usando esta definición, la señal de salida $y(t)$ de un SLIT ante una señal exponencial compleja en la entrada, se tiene que\n",
        "\n",
        "\\begin{equation}\n",
        "y(t) = \\mathscr{H} \\{ e^{st} \\} = H(s) \\cdot e^{st}\n",
        "\\end{equation}\n",
        "\n",
        "Tenga en cuenta que el concepto de función de transferencia está directamente vinculado a la linealidad y la invariancia en el tiempo de un sistema. Solo en este caso, las señales exponenciales complejas son funciones propias del sistema y $H(s)$ describe las propiedades de un SLIT con respecto a éstas.\n",
        "\n",
        "La ecuación anterior se puede reescribir en términos de la magnitud $|H(s)|$ y fase $\\varphi(s)=\\arg\\{H(s)\\}$ de la función de transferencia compleja $H(s)$\n",
        "\n",
        "\\begin{equation}\n",
        "y(t) = | H(s) | \\cdot e^{s t + j \\varphi(s)}\n",
        "\\end{equation}\n",
        "\n",
        "La magnitud $|H(s)|$ proporciona una atenuación dependiente de la frecuencia de la función propia $e^{st}$ por el sistema, mientras que $\\varphi(s)$ proporciona el cambio de fase introducido en la señal de entrada."
      ]
    },
    {
      "cell_type": "markdown",
      "metadata": {
        "id": "4P4AJvKsvW0S"
      },
      "source": [
        "## Relación entre función de transferencia y respuesta al impulso\n",
        "\n",
        "Para establecer la relación entre la función de transferencia $H(s)$ y la respuesta al impulso $h(t)$, se obtiene la salida $y(t)=\\mathscr{H}\\{x(t)\\}$ de un SLIT con señal de entrada $x(t)$, mediante la convolución de la señal de entrada con la respuesta de impulso:\n",
        "\n",
        "\\begin{equation}\n",
        "y(t) = x(t) * h(t) = \\int_{-\\infty}^{\\infty} x(t-\\tau) \\cdot h(\\tau) \\; d\\tau\n",
        "\\end{equation}\n",
        "\n",
        "Para una señal exponencial compleja como entrada $x(t)=e^{st}$, la salida de un SLIT se cálcula como $y(t)=\\mathscr{H} \\{e^{st}\\}=H(s)\\cdot e^{st}$.\n",
        "\n",
        "Introduciendo ambas señales en la convolución se tiene que:\n",
        "\n",
        "\\begin{equation}\n",
        "H(s) \\cdot e^{st} = \\int_{-\\infty}^{\\infty} e^{st} e^{-s \\tau} \\cdot h(\\tau) \\; d\\tau\n",
        "\\end{equation}\n",
        "\n",
        "Que después de reorganizar los términos resulta en\n",
        "\n",
        "\\begin{equation}\n",
        "H(s) = \\int_{-\\infty}^{\\infty} h(\\tau) \\cdot e^{-s \\tau}  \\; d\\tau\n",
        "\\end{equation}\n",
        "\n",
        "bajo el supuesto de que la integral converge.\n",
        "\n",
        "La función de transferencia $H(s)$ se puede calcular a partir de la respuesta de impulso $h(t)$ mediante la integración de la respuesta de impulso multiplicada por la función exponencial compleja $e^{-st}$.\n",
        "\n",
        "Esto constituye una transformada integral de la respuesta al impulso, la [transformada de Laplace](https://en.wikipedia.org/wiki/Laplace_transform)."
      ]
    },
    {
      "cell_type": "markdown",
      "metadata": {
        "nbsphinx": "hidden",
        "id": "lnyDWU4SvW0T"
      },
      "source": [
        "**Copyright**\n",
        "\n",
        "The notebooks are provided as [Open Educational Resource](https://de.wikipedia.org/wiki/Open_Educational_Resources). Feel free to use the notebooks for your own educational purposes. The text is licensed under [Creative Commons Attribution 4.0](https://creativecommons.org/licenses/by/4.0/), the code of the IPython examples under the [MIT license](https://opensource.org/licenses/MIT). Please attribute the work as follows: *Lecture Notes on Signals and Systems* by Sascha Spors."
      ]
    }
  ]
}